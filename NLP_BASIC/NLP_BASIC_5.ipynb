{
 "cells": [
  {
   "cell_type": "markdown",
   "metadata": {},
   "source": [
    "# **펄플렉서티(Perplexity)**\n",
    "두 개의 모델 A, B가 있을 때 이 모델의 성능은 어떻게 비교할 수 있을까요? 두 개의 모델을 오타 교정, 기계 번역 등의 평가에 투입해볼 수 있겠습니다. 그리고 두 모델이 해당 업무의 성능을 누가 더 잘했는지를 비교하면 되겠습니다. 그런데 두 모델의 성능을 비교하고자, 일일히 모델들에 대해서 실제 작업을 시켜보고 정확도를 비교하는 작업은 공수가 너무 많이 드는 작업입니다. 만약 비교해야하는 모델이 두 개가 아니라 그 이상의 수라면 시간은 비교해야하는 모델의 수만큼 배로 늘어날 수도 있습니다.\n",
    "\n",
    "이러한 평가를 **외부 평가(extrinsic evaluation)**라고 하는데, 이러한 평가보다는 어쩌면 조금은 부정확할 수는 있어도 테스트 데이터에 대해서 빠르게 식으로 계산되는 더 간단한 평가 방법이 있습니다. 바로 모델 내에서 자신의 성능을 수치화하여 결과를 내놓는 내부 평가(intrinsic evaluation)에 해당되는 펄플렉서티(Perplexity)입니다."
   ]
  },
  {
   "cell_type": "markdown",
   "metadata": {},
   "source": [
    "## **1. 언어 모델의 평가 방법(Evaluation metric) : PPL.**\n",
    "펄플렉서티(Perplexity)는 언어 모델을 평가하기 위한 내부 평가 지표입니다. 보통 줄여서 PPL이 라고 표현합니다. 왜 perplexity라는 용어를 사용했을까요? 영어에서 'perplexed'는 '헷갈리는'과 유사한 의미를 가집니다. 그러니까 여기서 PPL은 '헷갈리는 정도'로 이해해 봅시다. PPL를 처음 배울때 다소 낯설게 느껴질 수 있는 점이 있다면, PPL은 수치가 높을수록 좋은 성능을 의미하는 것이 아니라, '낮을 수록' 언어 모델의 성능이 좋다는 것을 의미한다는 점입니다.\n",
    "\n",
    "PPL은 단어의 수로 정규화(normalization) 된 테스트 데이터에 대한 확률의 역수입니다. PPL을 최소화한다는 것은 문장의 확률을 최대화하는 것과 같습니다. 문장 WW의 길이가 NN이라고 하였을 때의 PPL은 다음과 같습니다.\n",
    "\n",
    "![image](https://user-images.githubusercontent.com/42408554/63073829-765e3b80-bf65-11e9-9217-5297120e995c.png)\n",
    "\n",
    "문장의 확률에 체인룰(chain rule)을 적용하면 아래와 같습니다.\n",
    "\n",
    "![image](https://user-images.githubusercontent.com/42408554/63073838-8a09a200-bf65-11e9-9d0d-054786811849.png)\n",
    "\n",
    "여기에 n-gram을 적용해볼 수도 있습니다. 예를 들어 bigram 언어 모델의 경우에는 식이 아래와 같습니다.\n",
    "\n",
    "![image](https://user-images.githubusercontent.com/42408554/63073858-9a218180-bf65-11e9-93b8-6622e22b1b22.png)\n",
    "\n",
    "---\n",
    "***수열과 집합의 합과 곱 참고사이트** <br>\n",
    "https://datascienceschool.net/view-notebook/f4e77fde0de64b0ab1001810881544e1/"
   ]
  },
  {
   "cell_type": "markdown",
   "metadata": {},
   "source": [
    "## **2. 분기 계수(Branching factor)**\n",
    "\n",
    "PPL은 선택할 수 있는 가능한 경우의 수를 의미하는 분기계수(branching factor)입니다. PPL은 이 언어 모델이 특정 시점에서 평균적으로 몇 개의 선택지를 가지고 고민하고 있는지를 의미합니다. 가령, 언어 모델에 어떤 테스트 데이터을 주고 측정했더니 PPL이 10이 나왔다고 해봅시다. 그렇다면 해당 언어 모델은 테스트 데이터에 대해서 다음 단어를 예측하는 모든 시점(time-step)마다 평균적으로 10개의 단어를 가지고 어떤 것이 정답인지 고민하고 있다고 볼 수 있습니다. 같은 테스트 데이터에 대해서 두 언어 모델의 PPL을 각각 계산 후에 PPL의 값을 비교하면, 두 언어 모델 중 어떤 것이 성능이 좋은지도 판단이 가능합니다. 당연히 PPL이 더 낮은 언어 모델의 성능이 더 좋다고 볼 수 있습니다.\n",
    "\n",
    "![image](https://user-images.githubusercontent.com/42408554/63073911-d8b73c00-bf65-11e9-8a52-5265034ec22f.png)\n",
    "\n",
    "단, 평가 방법에 있어서 주의할 점은 PPL의 값이 낮다는 것은 테스트 데이터 상에서 높은 정확도를 보인다는 것이지, 사람이 직접 느끼기에 좋은 언어 모델이라는 것을 반드시 의미하진 않는다는 점입니다. 또한 언어 모델의 PPL은 테스트 데이터에 의존하므로 두 개 이상의 언어 모델을 비교할 때는 정량적으로 양이 많고, 또한 도메인에 알맞은 동일한 테스트 데이터를 사용해야 신뢰도가 높다는 것입니다."
   ]
  },
  {
   "cell_type": "markdown",
   "metadata": {},
   "source": [
    "## **3. 기존 언어 모델 Vs. 인공 신경망을 이용한 언어 모델.**\n",
    "\n",
    "PPL의 실제 사용 사례를 확인해보겠습니다. 페이스북 AI 연구팀은 우리가 앞서 배운 n-gram 언어 모델과 이후 배우게 될 딥 러닝을 이용한 언어 모델에 대해서 PPL로 성능 테스트를 한 표를 공개한 바 있습니다.\n",
    "\n",
    "![image](https://user-images.githubusercontent.com/42408554/63073924-e967b200-bf65-11e9-9f67-4c729d293e05.png)\n",
    "\n",
    "링크 : https://research.fb.com/building-an-efficient-neural-language-model-over-a-billion-words/\n",
    "\n",
    "표에서 맨 위의 줄의 언어 모델이 n-gram을 이용한 언어 모델이며 PPL이 67.6으로 측정되었습니다. 5-gram을 사용하였으며, 5-gram 앞에 Interpolated Kneser-Ney라는 이름이 붙었는데 이 책에서는 별도 설명을 생략하겠다고 했던 일반화(generalization) 방법이 사용된 모델입니다. 반면, 그 아래의 모델들은 인공 신경망을 이용한 언어 모델들로 페이스북 AI 연구팀이 자신들의 언어 모델을 다른 언어 모델과 비교하고자 하는 목적으로 기록하였습니다. 아직 RNN과 LSTM 등이 무엇인지 배우지는 않았지만, 인공 신경망을 이용한 언어 모델들은 대부분 n-gram을 이용한 언어 모델보다 더 좋은 성능 평가를 받았음을 확인할 수 있습니다.\n",
    "\n",
    "------\n",
    "\n",
    "추천하는 참고 링크 :\n",
    "https://towardsdatascience.com/perplexity-intuition-and-derivation-105dd481c8f3\n",
    "https://www.slideshare.net/shkulathilake/nlpkashkevaluating-language-model\n",
    "http://www.statmt.org/book/slides/07-language-models.pdf"
   ]
  },
  {
   "cell_type": "markdown",
   "metadata": {},
   "source": [
    "---\n",
    "# **조건부 확률(Conditional Probability)**\n",
    "\n",
    "![image](https://user-images.githubusercontent.com/42408554/63073956-1025e880-bf66-11e9-8d1a-c7a6c6a3e134.png)\n",
    "\n",
    "> A = 학생이 남학생인 사건 <br>\n",
    "> B = 학생이 여학생인 사건 <br>\n",
    "> C = 학생이 중학생인 사건 <br>\n",
    "> D = 학생이 고등학생인 사건 <br>\n",
    "\n",
    "이라고 했을 때, 아래의 확률을 계산해보겠습니다.\n",
    "\n",
    "**1. 학생을 뽑았을 때, 남학생일 확률**\n",
    "**P(A)** = 180/360=0.5\n",
    "\n",
    "**2. 학생을 뽑았을 때, 고등학생이면서 남학생일 확률**\n",
    "**P(A∩D)** = 80/360\n",
    "\n",
    "**3. 고등학생 중 한명을 뽑았을 때, 남학생일 확률**\n",
    "**P(A|D)** = 80/200 = **P(A∩D)/P(D)** = (80/360)/(200/360) = 80/200 = 0.4"
   ]
  },
  {
   "cell_type": "code",
   "execution_count": null,
   "metadata": {},
   "outputs": [],
   "source": []
  }
 ],
 "metadata": {
  "kernelspec": {
   "display_name": "Python 3",
   "language": "python",
   "name": "python3"
  },
  "language_info": {
   "codemirror_mode": {
    "name": "ipython",
    "version": 3
   },
   "file_extension": ".py",
   "mimetype": "text/x-python",
   "name": "python",
   "nbconvert_exporter": "python",
   "pygments_lexer": "ipython3",
   "version": "3.7.1"
  }
 },
 "nbformat": 4,
 "nbformat_minor": 2
}
